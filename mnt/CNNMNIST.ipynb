{
 "cells": [
  {
   "metadata": {},
   "cell_type": "markdown",
   "source": "# CNN MNIST Prediction",
   "id": "bd4679e79c033fc8"
  },
  {
   "metadata": {
    "ExecuteTime": {
     "end_time": "2025-06-24T10:28:38.203626Z",
     "start_time": "2025-06-24T10:28:37.857328Z"
    }
   },
   "cell_type": "code",
   "source": [
    "import tensorflow as tf\n",
    "from tensorflow.keras.datasets import mnist\n",
    "from tensorflow.keras.models import Sequential\n",
    "from tensorflow.keras.layers import Dense, Flatten\n",
    "from tensorflow.keras.utils import to_categorical\n",
    "\n",
    "# Load data\n",
    "(x_train, y_train), (x_test, y_test) = mnist.load_data()\n",
    "\n",
    "\n",
    "# Normalize\n",
    "x_train = x_train.reshape(-1, 28, 28, 1) / 255.0\n",
    "x_test = x_test.reshape(-1, 28, 28, 1) / 255.0\n",
    "\n",
    "\n",
    "# One-hot encode labels\n",
    "y_train_cat = to_categorical(y_train, 10)\n",
    "y_test_cat = to_categorical(y_test, 10)"
   ],
   "id": "initial_id",
   "outputs": [],
   "execution_count": 26
  },
  {
   "metadata": {
    "ExecuteTime": {
     "end_time": "2025-06-24T10:29:19.774896Z",
     "start_time": "2025-06-24T10:28:39.789162Z"
    }
   },
   "cell_type": "code",
   "source": [
    "from tensorflow.keras.layers import Dropout\n",
    "# from tensorflow.python.keras.layers import MaxPooling2D\n",
    "from tensorflow.keras.layers import Conv2D, MaxPooling2D\n",
    "\n",
    "# Build model\n",
    "model = Sequential([\n",
    "\n",
    "    #CNN Layer 1\n",
    "    Conv2D(filters=32, kernel_size=(3,3), activation='relu', input_shape=(28,28,1)),\n",
    "    MaxPooling2D(pool_size=(2,2)),\n",
    "\n",
    "    #CNN Layer 2\n",
    "    Conv2D(64, (3,3), activation='relu'),\n",
    "    MaxPooling2D(pool_size=(2,2)),\n",
    "\n",
    "    # Dense layers\n",
    "    Flatten(input_shape=(28, 28)),\n",
    "    Dense(64, activation='relu'),\n",
    "    Dropout(0.5),\n",
    "    Dense(10, activation='softmax')\n",
    "])\n",
    "\n",
    "# Compile model\n",
    "model.compile(optimizer='adam', loss='categorical_crossentropy', metrics=['accuracy'])\n",
    "\n",
    "# Train model\n",
    "model.fit(x_train, y_train_cat, epochs=8, validation_split=0.2, batch_size=128)\n",
    "\n",
    "# Evaluate\n",
    "test_loss, test_acc = model.evaluate(x_test, y_test_cat)\n",
    "print(\"Test Accuracy:\", round(test_acc * 100, 2), \"%\")\n"
   ],
   "id": "9e64fe67e558ee61",
   "outputs": [
    {
     "name": "stdout",
     "output_type": "stream",
     "text": [
      "Epoch 1/8\n",
      "\u001B[1m375/375\u001B[0m \u001B[32m━━━━━━━━━━━━━━━━━━━━\u001B[0m\u001B[37m\u001B[0m \u001B[1m5s\u001B[0m 10ms/step - accuracy: 0.7152 - loss: 0.8633 - val_accuracy: 0.9716 - val_loss: 0.0992\n",
      "Epoch 2/8\n",
      "\u001B[1m375/375\u001B[0m \u001B[32m━━━━━━━━━━━━━━━━━━━━\u001B[0m\u001B[37m\u001B[0m \u001B[1m4s\u001B[0m 10ms/step - accuracy: 0.9385 - loss: 0.2011 - val_accuracy: 0.9794 - val_loss: 0.0661\n",
      "Epoch 3/8\n",
      "\u001B[1m375/375\u001B[0m \u001B[32m━━━━━━━━━━━━━━━━━━━━\u001B[0m\u001B[37m\u001B[0m \u001B[1m4s\u001B[0m 11ms/step - accuracy: 0.9571 - loss: 0.1420 - val_accuracy: 0.9827 - val_loss: 0.0584\n",
      "Epoch 4/8\n",
      "\u001B[1m375/375\u001B[0m \u001B[32m━━━━━━━━━━━━━━━━━━━━\u001B[0m\u001B[37m\u001B[0m \u001B[1m5s\u001B[0m 12ms/step - accuracy: 0.9639 - loss: 0.1193 - val_accuracy: 0.9863 - val_loss: 0.0481\n",
      "Epoch 5/8\n",
      "\u001B[1m375/375\u001B[0m \u001B[32m━━━━━━━━━━━━━━━━━━━━\u001B[0m\u001B[37m\u001B[0m \u001B[1m5s\u001B[0m 13ms/step - accuracy: 0.9694 - loss: 0.1017 - val_accuracy: 0.9842 - val_loss: 0.0529\n",
      "Epoch 6/8\n",
      "\u001B[1m375/375\u001B[0m \u001B[32m━━━━━━━━━━━━━━━━━━━━\u001B[0m\u001B[37m\u001B[0m \u001B[1m5s\u001B[0m 13ms/step - accuracy: 0.9732 - loss: 0.0843 - val_accuracy: 0.9869 - val_loss: 0.0442\n",
      "Epoch 7/8\n",
      "\u001B[1m375/375\u001B[0m \u001B[32m━━━━━━━━━━━━━━━━━━━━\u001B[0m\u001B[37m\u001B[0m \u001B[1m6s\u001B[0m 15ms/step - accuracy: 0.9755 - loss: 0.0778 - val_accuracy: 0.9887 - val_loss: 0.0401\n",
      "Epoch 8/8\n",
      "\u001B[1m375/375\u001B[0m \u001B[32m━━━━━━━━━━━━━━━━━━━━\u001B[0m\u001B[37m\u001B[0m \u001B[1m6s\u001B[0m 16ms/step - accuracy: 0.9778 - loss: 0.0725 - val_accuracy: 0.9892 - val_loss: 0.0384\n",
      "\u001B[1m313/313\u001B[0m \u001B[32m━━━━━━━━━━━━━━━━━━━━\u001B[0m\u001B[37m\u001B[0m \u001B[1m1s\u001B[0m 3ms/step - accuracy: 0.9870 - loss: 0.0417\n",
      "Test Accuracy: 99.01 %\n"
     ]
    }
   ],
   "execution_count": 27
  },
  {
   "metadata": {},
   "cell_type": "markdown",
   "source": "### Inputting real world Images",
   "id": "57ee1557abe30f33"
  },
  {
   "metadata": {
    "ExecuteTime": {
     "end_time": "2025-06-24T10:32:41.525711Z",
     "start_time": "2025-06-24T10:32:41.367247Z"
    }
   },
   "cell_type": "code",
   "source": [
    "from matplotlib import pyplot as plt\n",
    "from PIL import ImageEnhance, ImageFilter, Image, ImageOps\n",
    "import numpy as np\n",
    "\n",
    "\n",
    "def advanced_preprocess(path):\n",
    "    img = Image.open(path).convert(\"L\")\n",
    "    img = ImageOps.invert(img)\n",
    "\n",
    "    # Enhance contrast\n",
    "    img = ImageEnhance.Contrast(img).enhance(2.0)\n",
    "\n",
    "    # Resize with high-quality resampling\n",
    "    img.thumbnail((20, 20), Image.Resampling.LANCZOS)\n",
    "\n",
    "    # Center in a 28x28 canvas\n",
    "    new_img = Image.new(\"L\", (28, 28), 0)\n",
    "    new_img.paste(img, ((28 - img.size[0]) // 2, (28 - img.size[1]) // 2))\n",
    "\n",
    "    # Sharpen\n",
    "    new_img = new_img.filter(ImageFilter.SHARPEN)\n",
    "\n",
    "    # Display\n",
    "    plt.imshow(new_img, cmap='gray')\n",
    "    plt.title(\"Advanced Processed Image\")\n",
    "    plt.axis(\"off\")\n",
    "    plt.show()\n",
    "\n",
    "    # Normalize and reshape\n",
    "    arr = np.array(new_img).astype(\"float32\") / 255.0\n",
    "    arr = arr.reshape(1, 28, 28)\n",
    "    return arr\n",
    "\n",
    "# Use it\n",
    "img_path = \"sampleData/three2.png\"\n",
    "advanced_img = advanced_preprocess(img_path)\n",
    "\n",
    "pred = model.predict(advanced_img)\n",
    "print(\"Predicted Digit:\", np.argmax(pred))\n",
    "\n",
    "# Predict probabilities for each class\n",
    "probs = model.predict(advanced_img)[0]  # shape: (10,)\n",
    "\n",
    "# Print each class's confidence\n",
    "for i, prob in enumerate(probs):\n",
    "    print(f\"Digit {i}: {prob * 100:.2f}% confidence\")\n",
    "\n"
   ],
   "id": "d597cd11592d9c64",
   "outputs": [
    {
     "data": {
      "text/plain": [
       "<Figure size 640x480 with 1 Axes>"
      ],
      "image/png": "[encoded data removed]"
     },
     "metadata": {},
     "output_type": "display_data"
    },
    {
     "name": "stdout",
     "output_type": "stream",
     "text": [
      "\u001B[1m1/1\u001B[0m \u001B[32m━━━━━━━━━━━━━━━━━━━━\u001B[0m\u001B[37m\u001B[0m \u001B[1m0s\u001B[0m 32ms/step\n",
      "Predicted Digit: 3\n",
      "\u001B[1m1/1\u001B[0m \u001B[32m━━━━━━━━━━━━━━━━━━━━\u001B[0m\u001B[37m\u001B[0m \u001B[1m0s\u001B[0m 41ms/step\n",
      "Digit 0: 0.00% confidence\n",
      "Digit 1: 0.00% confidence\n",
      "Digit 2: 0.05% confidence\n",
      "Digit 3: 99.64% confidence\n",
      "Digit 4: 0.03% confidence\n",
      "Digit 5: 0.26% confidence\n",
      "Digit 6: 0.01% confidence\n",
      "Digit 7: 0.00% confidence\n",
      "Digit 8: 0.00% confidence\n",
      "Digit 9: 0.00% confidence\n"
     ]
    }
   ],
   "execution_count": 36
  },
  {
   "metadata": {
    "ExecuteTime": {
     "end_time": "2025-06-24T10:34:11.281319Z",
     "start_time": "2025-06-24T10:34:11.228879Z"
    }
   },
   "cell_type": "code",
   "source": [
    "model.save(\"mnist_cnn_model.keras\")\n",
    "print(\" Model saved\")\n"
   ],
   "id": "e13cf93677ede9e2",
   "outputs": [
    {
     "name": "stdout",
     "output_type": "stream",
     "text": [
      " Model saved\n"
     ]
    }
   ],
   "execution_count": 39
  }
 ],
 "metadata": {
  "kernelspec": {
   "display_name": "Python 3",
   "language": "python",
   "name": "python3"
  },
  "language_info": {
   "codemirror_mode": {
    "name": "ipython",
    "version": 2
   },
   "file_extension": ".py",
   "mimetype": "text/x-python",
   "name": "python",
   "nbconvert_exporter": "python",
   "pygments_lexer": "ipython2",
   "version": "2.7.6"
  }
 },
 "nbformat": 4,
 "nbformat_minor": 5
}
