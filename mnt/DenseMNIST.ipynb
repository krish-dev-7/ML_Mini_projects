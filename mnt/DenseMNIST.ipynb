{
 "cells": [
  {
   "cell_type": "code",
   "id": "e614f283de9e38c5",
   "metadata": {
    "ExecuteTime": {
     "end_time": "2025-06-24T07:13:21.268411Z",
     "start_time": "2025-06-24T07:13:20.943039Z"
    }
   },
   "source": [
    "import tensorflow as tf\n",
    "from tensorflow.keras.datasets import mnist\n",
    "from tensorflow.keras.models import Sequential\n",
    "from tensorflow.keras.layers import Dense, Flatten\n",
    "from tensorflow.keras.utils import to_categorical\n",
    "\n",
    "# Load data\n",
    "(x_train, y_train), (x_test, y_test) = mnist.load_data()\n",
    "\n",
    "\n",
    "# Normalize\n",
    "x_train, x_test = x_train / 255.0, x_test / 255.0\n",
    "\n",
    "\n",
    "# One-hot encode labels\n",
    "y_train_cat = to_categorical(y_train, 10)\n",
    "y_test_cat = to_categorical(y_test, 10)"
   ],
   "outputs": [],
   "execution_count": 41
  },
  {
   "metadata": {},
   "cell_type": "markdown",
   "source": "### Build Model",
   "id": "c7bc7dd47ada6c62"
  },
  {
   "metadata": {
    "ExecuteTime": {
     "end_time": "2025-06-24T07:13:38.244851Z",
     "start_time": "2025-06-24T07:13:25.774817Z"
    }
   },
   "cell_type": "code",
   "source": [
    "# Build model\n",
    "model = Sequential([\n",
    "    Flatten(input_shape=(28, 28)),\n",
    "    Dense(128, activation='relu'),\n",
    "    Dense(64, activation='relu'),\n",
    "    Dense(10, activation='softmax')\n",
    "])\n",
    "\n",
    "# Compile model\n",
    "model.compile(optimizer='adam', loss='categorical_crossentropy', metrics=['accuracy'])\n",
    "\n",
    "# Train model\n",
    "model.fit(x_train, y_train_cat, epochs=5, validation_split=0.2)\n",
    "\n",
    "# Evaluate\n",
    "test_loss, test_acc = model.evaluate(x_test, y_test_cat)\n",
    "print(\"Test Accuracy:\", round(test_acc * 100, 2), \"%\")\n"
   ],
   "id": "initial_id",
   "outputs": [
    {
     "name": "stdout",
     "output_type": "stream",
     "text": [
      "Epoch 1/5\n"
     ]
    },
    {
     "name": "stderr",
     "output_type": "stream",
     "text": [
      "C:\\Users\\vkrishnasundar\\PyCharmMiscProject\\.venv\\Lib\\site-packages\\keras\\src\\layers\\reshaping\\flatten.py:37: UserWarning: Do not pass an `input_shape`/`input_dim` argument to a layer. When using Sequential models, prefer using an `Input(shape)` object as the first layer in the model instead.\n",
      "  super().__init__(**kwargs)\n"
     ]
    },
    {
     "name": "stdout",
     "output_type": "stream",
     "text": [
      "\u001B[1m1500/1500\u001B[0m \u001B[32m━━━━━━━━━━━━━━━━━━━━\u001B[0m\u001B[37m\u001B[0m \u001B[1m3s\u001B[0m 2ms/step - accuracy: 0.8671 - loss: 0.4613 - val_accuracy: 0.9611 - val_loss: 0.1357\n",
      "Epoch 2/5\n",
      "\u001B[1m1500/1500\u001B[0m \u001B[32m━━━━━━━━━━━━━━━━━━━━\u001B[0m\u001B[37m\u001B[0m \u001B[1m2s\u001B[0m 1ms/step - accuracy: 0.9655 - loss: 0.1136 - val_accuracy: 0.9693 - val_loss: 0.1054\n",
      "Epoch 3/5\n",
      "\u001B[1m1500/1500\u001B[0m \u001B[32m━━━━━━━━━━━━━━━━━━━━\u001B[0m\u001B[37m\u001B[0m \u001B[1m2s\u001B[0m 1ms/step - accuracy: 0.9757 - loss: 0.0785 - val_accuracy: 0.9700 - val_loss: 0.1045\n",
      "Epoch 4/5\n",
      "\u001B[1m1500/1500\u001B[0m \u001B[32m━━━━━━━━━━━━━━━━━━━━\u001B[0m\u001B[37m\u001B[0m \u001B[1m2s\u001B[0m 1ms/step - accuracy: 0.9808 - loss: 0.0580 - val_accuracy: 0.9715 - val_loss: 0.0983\n",
      "Epoch 5/5\n",
      "\u001B[1m1500/1500\u001B[0m \u001B[32m━━━━━━━━━━━━━━━━━━━━\u001B[0m\u001B[37m\u001B[0m \u001B[1m2s\u001B[0m 1ms/step - accuracy: 0.9866 - loss: 0.0432 - val_accuracy: 0.9735 - val_loss: 0.1024\n",
      "\u001B[1m313/313\u001B[0m \u001B[32m━━━━━━━━━━━━━━━━━━━━\u001B[0m\u001B[37m\u001B[0m \u001B[1m0s\u001B[0m 873us/step - accuracy: 0.9683 - loss: 0.1095\n",
      "Test Accuracy: 97.24 %\n"
     ]
    }
   ],
   "execution_count": 42
  },
  {
   "metadata": {},
   "cell_type": "markdown",
   "source": "### Inputting real world image",
   "id": "5fca0ce73ed1146b"
  },
  {
   "metadata": {
    "ExecuteTime": {
     "end_time": "2025-06-24T10:32:38.697156Z",
     "start_time": "2025-06-24T10:32:38.532627Z"
    }
   },
   "cell_type": "code",
   "source": [
    "from matplotlib import pyplot as plt\n",
    "from PIL import ImageEnhance, ImageFilter, Image, ImageOps\n",
    "import numpy as np\n",
    "\n",
    "\n",
    "def advanced_preprocess(path):\n",
    "    img = Image.open(path).convert(\"L\")\n",
    "    img = ImageOps.invert(img)\n",
    "\n",
    "    # Enhance contrast\n",
    "    img = ImageEnhance.Contrast(img).enhance(2.0)\n",
    "\n",
    "    # Resize with high-quality resampling\n",
    "    img.thumbnail((20, 20), Image.Resampling.LANCZOS)\n",
    "\n",
    "    # Center in a 28x28 canvas\n",
    "    new_img = Image.new(\"L\", (28, 28), 0)\n",
    "    new_img.paste(img, ((28 - img.size[0]) // 2, (28 - img.size[1]) // 2))\n",
    "\n",
    "    # Sharpen\n",
    "    new_img = new_img.filter(ImageFilter.SHARPEN)\n",
    "\n",
    "    # Display\n",
    "    plt.imshow(new_img, cmap='gray')\n",
    "    plt.title(\"Advanced Processed Image\")\n",
    "    plt.axis(\"off\")\n",
    "    plt.show()\n",
    "\n",
    "    # Normalize and reshape\n",
    "    arr = np.array(new_img).astype(\"float32\") / 255.0\n",
    "    arr = arr.reshape(1, 28, 28)\n",
    "    return arr\n",
    "\n",
    "# Use it\n",
    "img_path = \"mnt/sampleData/three2.png\"\n",
    "advanced_img = advanced_preprocess(img_path)\n",
    "\n",
    "pred = model.predict(advanced_img)\n",
    "print(\"Predicted Digit:\", np.argmax(pred))\n",
    "\n",
    "# Predict probabilities for each class\n",
    "probs = model.predict(advanced_img)[0]  # shape: (10,)\n",
    "\n",
    "# Print each class's confidence\n",
    "for i, prob in enumerate(probs):\n",
    "    print(f\"Digit {i}: {prob * 100:.2f}% confidence\")\n",
    "\n"
   ],
   "id": "bdbf6d37cd6284ec",
   "outputs": [
    {
     "data": {
      "text/plain": [
       "<Figure size 640x480 with 1 Axes>"
      ],
      "image/png": "[encoded data removed]"
     },
     "metadata": {},
     "output_type": "display_data"
    },
    {
     "name": "stdout",
     "output_type": "stream",
     "text": [
      "\u001B[1m1/1\u001B[0m \u001B[32m━━━━━━━━━━━━━━━━━━━━\u001B[0m\u001B[37m\u001B[0m \u001B[1m0s\u001B[0m 27ms/step\n",
      "Predicted Digit: 5\n",
      "\u001B[1m1/1\u001B[0m \u001B[32m━━━━━━━━━━━━━━━━━━━━\u001B[0m\u001B[37m\u001B[0m \u001B[1m0s\u001B[0m 32ms/step\n",
      "Digit 0: 0.03% confidence\n",
      "Digit 1: 3.42% confidence\n",
      "Digit 2: 22.19% confidence\n",
      "Digit 3: 23.41% confidence\n",
      "Digit 4: 0.01% confidence\n",
      "Digit 5: 50.07% confidence\n",
      "Digit 6: 0.01% confidence\n",
      "Digit 7: 0.10% confidence\n",
      "Digit 8: 0.08% confidence\n",
      "Digit 9: 0.68% confidence\n"
     ]
    }
   ],
   "execution_count": 66
  }
 ],
 "metadata": {
  "kernelspec": {
   "display_name": "Python 3",
   "language": "python",
   "name": "python3"
  },
  "language_info": {
   "codemirror_mode": {
    "name": "ipython",
    "version": 2
   },
   "file_extension": ".py",
   "mimetype": "text/x-python",
   "name": "python",
   "nbconvert_exporter": "python",
   "pygments_lexer": "ipython2",
   "version": "2.7.6"
  }
 },
 "nbformat": 4,
 "nbformat_minor": 5
}
