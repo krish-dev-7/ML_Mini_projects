{
 "cells": [
  {
   "metadata": {},
   "cell_type": "markdown",
   "source": "# Loan Prediction",
   "id": "4d371349acce389d"
  },
  {
   "metadata": {},
   "cell_type": "markdown",
   "source": "### Load and clean data",
   "id": "f2442f071b3e4f3"
  },
  {
   "metadata": {
    "ExecuteTime": {
     "end_time": "2025-06-23T06:22:05.255125Z",
     "start_time": "2025-06-23T06:22:04.478721Z"
    }
   },
   "cell_type": "code",
   "source": [
    "import pandas as pd\n",
    "\n",
    "# Load datasets\n",
    "train = pd.read_csv('https://raw.githubusercontent.com/aafaz/Loan-Prediction-System/refs/heads/master/Data/train.csv')\n",
    "test = pd.read_csv('https://raw.githubusercontent.com/aafaz/Loan-Prediction-System/refs/heads/master/Data/test.csv')\n",
    "\n",
    "# Preserve Loan_IDs for test predictions\n",
    "test_ids = test['Loan_ID']\n",
    "\n",
    "# Add a marker to split later\n",
    "train['is_train'] = 1\n",
    "test['is_train'] = 0\n",
    "test['Loan_Status'] = None  # Add placeholder column for consistency\n",
    "\n",
    "# Combine for uniform preprocessing\n",
    "combined = pd.concat([train, test], axis=0)\n",
    "\n",
    "# Drop ID\n",
    "combined.drop(\"Loan_ID\", axis=1, inplace=True)\n",
    "\n",
    "# Fill missing values\n",
    "for col in combined.columns:\n",
    "    if combined[col].dtype == \"object\":\n",
    "        combined[col] = combined[col].fillna(combined[col].mode()[0])\n",
    "    else:\n",
    "        combined[col] = combined[col].fillna(combined[col].median())\n",
    "\n",
    "# Encode categorical features\n",
    "combined = pd.get_dummies(combined, drop_first=True)\n",
    "\n",
    "# Split back\n",
    "train_cleaned = combined[combined[\"is_train\"] == 1].drop(\"is_train\", axis=1)\n",
    "test_cleaned = combined[combined[\"is_train\"] == 0].drop([\"is_train\", \"Loan_Status_Y\"], axis=1)  # Drop target from test\n"
   ],
   "id": "32023d49c04ffbc0",
   "outputs": [],
   "execution_count": 15
  },
  {
   "metadata": {},
   "cell_type": "markdown",
   "source": "### Train a decision tree classifier",
   "id": "b45cfce8af9af684"
  },
  {
   "metadata": {
    "ExecuteTime": {
     "end_time": "2025-06-23T06:25:37.043043Z",
     "start_time": "2025-06-23T06:24:41.674136Z"
    }
   },
   "cell_type": "code",
   "source": [
    "from sklearn.tree import DecisionTreeClassifier\n",
    "from sklearn.model_selection import train_test_split\n",
    "from sklearn.metrics import accuracy_score, classification_report\n",
    "\n",
    "# Separate features and target\n",
    "X = train_cleaned.drop(\"Loan_Status_Y\", axis=1)\n",
    "y = train_cleaned[\"Loan_Status_Y\"]\n",
    "\n",
    "# Train-test split for evaluation\n",
    "X_train, X_val, y_train, y_val = train_test_split(X, y, test_size=0.2, random_state=42)\n",
    "\n",
    "# Train model\n",
    "model = DecisionTreeClassifier(random_state=42)\n",
    "model.fit(X_train, y_train)\n",
    "\n",
    "# Evaluate on validation set\n",
    "y_val_pred = model.predict(X_val)\n",
    "print(\"Validation Accuracy:\", round(accuracy_score(y_val, y_val_pred) * 100, 2), \"%\")\n",
    "print(\"\\nClassification Report:\\n\", classification_report(y_val, y_val_pred))\n"
   ],
   "id": "9b9180a2d565b7f6",
   "outputs": [
    {
     "name": "stdout",
     "output_type": "stream",
     "text": [
      "Validation Accuracy: 67.48 %\n",
      "\n",
      "Classification Report:\n",
      "               precision    recall  f1-score   support\n",
      "\n",
      "       False       0.54      0.47      0.50        43\n",
      "        True       0.73      0.79      0.76        80\n",
      "\n",
      "    accuracy                           0.67       123\n",
      "   macro avg       0.64      0.63      0.63       123\n",
      "weighted avg       0.67      0.67      0.67       123\n",
      "\n"
     ]
    }
   ],
   "execution_count": 16
  },
  {
   "metadata": {},
   "cell_type": "markdown",
   "source": "### Predict on Test set",
   "id": "79e09846964c6221"
  },
  {
   "metadata": {
    "ExecuteTime": {
     "end_time": "2025-06-23T06:27:56.665158Z",
     "start_time": "2025-06-23T06:27:56.657713Z"
    }
   },
   "cell_type": "code",
   "source": [
    "# Predict on test set\n",
    "test_preds = model.predict(test_cleaned)\n",
    "\n",
    "# Convert predictions to 'Y' and 'N'\n",
    "predicted_labels = ['Y' if pred == 1 else 'N' for pred in test_preds]\n",
    "\n",
    "# Create DataFrame for submission\n",
    "submission = pd.DataFrame({\n",
    "    'Loan_ID': test_ids,\n",
    "    'Loan_Status': predicted_labels\n",
    "})\n",
    "\n",
    "print(submission.head())\n"
   ],
   "id": "3d6584f0f1b16639",
   "outputs": [
    {
     "name": "stdout",
     "output_type": "stream",
     "text": [
      "    Loan_ID Loan_Status\n",
      "0  LP001015           Y\n",
      "1  LP001022           N\n",
      "2  LP001031           Y\n",
      "3  LP001035           Y\n",
      "4  LP001051           N\n"
     ]
    }
   ],
   "execution_count": 17
  }
 ],
 "metadata": {
  "kernelspec": {
   "display_name": "Python 3",
   "language": "python",
   "name": "python3"
  },
  "language_info": {
   "codemirror_mode": {
    "name": "ipython",
    "version": 2
   },
   "file_extension": ".py",
   "mimetype": "text/x-python",
   "name": "python",
   "nbconvert_exporter": "python",
   "pygments_lexer": "ipython2",
   "version": "2.7.6"
  }
 },
 "nbformat": 4,
 "nbformat_minor": 5
}
