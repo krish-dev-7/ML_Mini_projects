{
 "cells": [
  {
   "metadata": {},
   "cell_type": "markdown",
   "source": "# Churn data prediction",
   "id": "d2be6f8cabfe478a"
  },
  {
   "metadata": {},
   "cell_type": "markdown",
   "source": "### Load Data and processing",
   "id": "4d5971a0b7f9291e"
  },
  {
   "metadata": {
    "ExecuteTime": {
     "end_time": "2025-06-11T05:12:35.277790Z",
     "start_time": "2025-06-11T05:12:34.838017Z"
    }
   },
   "cell_type": "code",
   "source": [
    "import pandas as pd\n",
    "\n",
    "from notebook import y_pred\n",
    "\n",
    "# Sample dataset URL (can use your own too)\n",
    "url = 'https://raw.githubusercontent.com/treselle-systems/customer_churn_analysis/refs/heads/master/WA_Fn-UseC_-Telco-Customer-Churn.csv'\n",
    "df = pd.read_csv(url)\n",
    "\n",
    "# print(df.head())\n",
    "\n",
    "df.drop('customerID', axis=1, inplace=True)\n",
    "df.dropna()\n",
    "\n",
    "# print(\"before: \\n\",df['TotalCharges'])\n",
    "\n",
    "df['TotalCharges'] = pd.to_numeric(df['TotalCharges'].str.strip(), errors='coerce')\n",
    "\n",
    "# Now drop rows where TotalCharges became NaN\n",
    "df = df.dropna(subset=['TotalCharges'])\n",
    "\n",
    "df['Churn'] = df['Churn'].map({'Yes': 1, 'No': 0})\n",
    "\n",
    "cat_cols = df.select_dtypes(include='object').columns.tolist()\n",
    "\n",
    "df = pd.get_dummies(df, columns=cat_cols)\n",
    "\n"
   ],
   "id": "662c0ad2007e4dd2",
   "outputs": [],
   "execution_count": 27
  },
  {
   "metadata": {},
   "cell_type": "markdown",
   "source": "### Train Logistic regression",
   "id": "b2e1591a57062508"
  },
  {
   "metadata": {
    "ExecuteTime": {
     "end_time": "2025-06-11T05:33:56.921192Z",
     "start_time": "2025-06-11T05:33:56.864938Z"
    }
   },
   "cell_type": "code",
   "source": [
    "from sklearn.model_selection import train_test_split\n",
    "from sklearn.preprocessing import StandardScaler\n",
    "from sklearn.linear_model import LogisticRegression\n",
    "from sklearn.metrics import classification_report, confusion_matrix, accuracy_score\n",
    "\n",
    "x = df.drop('Churn', axis=1)\n",
    "y = df['Churn']\n",
    "\n",
    "scaler = StandardScaler()\n",
    "x_train, x_test, y_train, y_test = train_test_split(x, y, test_size=0.2, random_state=42)\n",
    "x_train_scaled = scaler.fit_transform(x_train)\n",
    "x_test_scaled = scaler.transform(x_test)\n",
    "\n",
    "X_train_scaled = pd.DataFrame(x_train_scaled, columns=x_train.columns)\n",
    "X_test_scaled = pd.DataFrame(x_test_scaled, columns=x_test.columns)\n",
    "\n",
    "model = LogisticRegression(max_iter=1000)\n",
    "model.fit(x_train_scaled, y_train)\n",
    "\n",
    "y_pred = model.predict(x_test_scaled)"
   ],
   "id": "83b0b686f51507a4",
   "outputs": [],
   "execution_count": 31
  },
  {
   "metadata": {},
   "cell_type": "markdown",
   "source": "### Evaluation",
   "id": "4d403505bed39932"
  },
  {
   "metadata": {
    "ExecuteTime": {
     "end_time": "2025-06-11T05:35:07.339133Z",
     "start_time": "2025-06-11T05:35:07.324706Z"
    }
   },
   "cell_type": "code",
   "source": [
    "print(\"Confusion Matrix:\\n\", confusion_matrix(y_test, y_pred))\n",
    "print(\"Classification Report:\\n\", classification_report(y_test, y_pred))"
   ],
   "id": "9cd204f38cb781be",
   "outputs": [
    {
     "name": "stdout",
     "output_type": "stream",
     "text": [
      "Confusion Matrix:\n",
      " [[915 118]\n",
      " [181 193]]\n",
      "Classification Report:\n",
      "               precision    recall  f1-score   support\n",
      "\n",
      "           0       0.83      0.89      0.86      1033\n",
      "           1       0.62      0.52      0.56       374\n",
      "\n",
      "    accuracy                           0.79      1407\n",
      "   macro avg       0.73      0.70      0.71      1407\n",
      "weighted avg       0.78      0.79      0.78      1407\n",
      "\n"
     ]
    }
   ],
   "execution_count": 32
  }
 ],
 "metadata": {
  "kernelspec": {
   "display_name": "Python 3",
   "language": "python",
   "name": "python3"
  },
  "language_info": {
   "codemirror_mode": {
    "name": "ipython",
    "version": 2
   },
   "file_extension": ".py",
   "mimetype": "text/x-python",
   "name": "python",
   "nbconvert_exporter": "python",
   "pygments_lexer": "ipython2",
   "version": "2.7.6"
  }
 },
 "nbformat": 4,
 "nbformat_minor": 5
}
